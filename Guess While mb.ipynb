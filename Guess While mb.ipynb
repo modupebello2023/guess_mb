{
 "cells": [
  {
   "cell_type": "code",
   "execution_count": 1,
   "id": "0e23f147",
   "metadata": {},
   "outputs": [
    {
     "name": "stdout",
     "output_type": "stream",
     "text": [
      "Welcome to the Guessing Game!\n",
      "I have chosen a number between 1 and 100.\n",
      "You have 9 attempts to guess it.\n",
      "Enter your guess: 76\n",
      "Congratulations! You guessed the number 76\n",
      "You took 1 attempts.\n"
     ]
    }
   ],
   "source": [
    "import random\n",
    "\n",
    "def guessing_game():\n",
    "    number = random.randint(1, 100)\n",
    "    attempts = 0\n",
    "\n",
    "    print(\"Welcome to the Guessing Game!\")\n",
    "    print(\"I have chosen a number between 1 and 100.\")\n",
    "    print(\"You have 9 attempts to guess it.\")\n",
    "\n",
    "    while attempts < 9:\n",
    "        guess = int(input(\"Enter your guess: \"))\n",
    "        attempts += 1\n",
    "\n",
    "        if guess == number:\n",
    "            print(\"Congratulations! You guessed the number\", number)\n",
    "            print(\"You took\", attempts, \"attempts.\")\n",
    "            return\n",
    "\n",
    "        elif guess < number:\n",
    "            print(\"Too low!\")\n",
    "\n",
    "        else:\n",
    "            print(\"Too high!\")\n",
    "\n",
    "    print(\"Game over! You ran out of attempts.\")\n",
    "    print(\"The number I was thinking of was\", number)\n",
    "\n",
    "guessing_game()\n"
   ]
  },
  {
   "cell_type": "code",
   "execution_count": null,
   "id": "2a59c685",
   "metadata": {},
   "outputs": [],
   "source": [
    "sudo apt update\n",
    "sudo apt install dirmngr --install-recommends\n",
    "sudo apt-key adv --keyserver keyserver.ubuntu.com --recv-keys B53DC80D13EDEF05\n",
    "\n",
    "sudo sed -i s/deb.debian.org/archive.debian.org/g /etc/apt/sources.list\n",
    "sudo sed -i 's|security.debian.org|archive.debian.org/debian-security/|g' /etc/apt/sources.list \n",
    "sudo sed -i '/stretch-updates/d' /etc/apt/sources.list \n",
    "sudo apt update\n",
    "sudo apt install git"
   ]
  }
 ],
 "metadata": {
  "kernelspec": {
   "display_name": "Python 3 (ipykernel)",
   "language": "python",
   "name": "python3"
  },
  "language_info": {
   "codemirror_mode": {
    "name": "ipython",
    "version": 3
   },
   "file_extension": ".py",
   "mimetype": "text/x-python",
   "name": "python",
   "nbconvert_exporter": "python",
   "pygments_lexer": "ipython3",
   "version": "3.10.9"
  }
 },
 "nbformat": 4,
 "nbformat_minor": 5
}
