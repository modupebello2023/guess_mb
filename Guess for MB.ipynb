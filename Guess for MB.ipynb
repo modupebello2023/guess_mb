{
 "cells": [
  {
   "cell_type": "code",
   "execution_count": 1,
   "id": "06fc915f",
   "metadata": {},
   "outputs": [
    {
     "name": "stdout",
     "output_type": "stream",
     "text": [
      "Welcome to the Guessing Game!\n",
      "I have chosen a number between 1 and 100.\n",
      "You have 9 attempts to guess it.\n",
      "Attempt 1: Enter your guess: 78\n",
      "Too high!\n",
      "Attempt 2: Enter your guess: 77\n",
      "Too high!\n",
      "Attempt 3: Enter your guess: 76\n",
      "Too high!\n",
      "Attempt 4: Enter your guess: 70\n",
      "Too high!\n",
      "Attempt 5: Enter your guess: 69\n",
      "Too high!\n",
      "Attempt 6: Enter your guess: 60\n",
      "Too high!\n",
      "Attempt 7: Enter your guess: 54\n",
      "Too high!\n",
      "Attempt 8: Enter your guess: 40\n",
      "Too high!\n",
      "Attempt 9: Enter your guess: 30\n",
      "Too low!\n",
      "Game over! You ran out of attempts.\n",
      "The number I was thinking of was 38\n"
     ]
    }
   ],
   "source": [
    "import random\n",
    "\n",
    "number = random.randint(1, 100)\n",
    "attempts = 9\n",
    "\n",
    "print(\"Welcome to the Guessing Game!\")\n",
    "print(\"I have chosen a number between 1 and 100.\")\n",
    "print(\"You have 9 attempts to guess it.\")\n",
    "\n",
    "for attempt in range(1, attempts+1):\n",
    "    guess = int(input(\"Attempt {}: Enter your guess: \".format(attempt)))\n",
    "\n",
    "    if guess == number:\n",
    "        print(\"Congratulations! You guessed the number\", number)\n",
    "        print(\"You took\", attempt, \"attempts.\")\n",
    "        break\n",
    "\n",
    "    elif guess < number:\n",
    "        print(\"Too low!\")\n",
    "\n",
    "    else:\n",
    "        print(\"Too high!\")\n",
    "\n",
    "if guess != number:\n",
    "    print(\"Game over! You ran out of attempts.\")\n",
    "    print(\"The number I was thinking of was\", number)\n"
   ]
  },
  {
   "cell_type": "code",
   "execution_count": null,
   "id": "4874cd06",
   "metadata": {},
   "outputs": [],
   "source": []
  }
 ],
 "metadata": {
  "kernelspec": {
   "display_name": "Python 3 (ipykernel)",
   "language": "python",
   "name": "python3"
  },
  "language_info": {
   "codemirror_mode": {
    "name": "ipython",
    "version": 3
   },
   "file_extension": ".py",
   "mimetype": "text/x-python",
   "name": "python",
   "nbconvert_exporter": "python",
   "pygments_lexer": "ipython3",
   "version": "3.10.9"
  }
 },
 "nbformat": 4,
 "nbformat_minor": 5
}
